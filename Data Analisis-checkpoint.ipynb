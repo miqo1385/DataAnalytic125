{
 "cells": [
  {
   "cell_type": "markdown",
   "id": "ba0a1005",
   "metadata": {},
   "source": [
    "In this assignment, I will analyze the data related to Trump's approval and disapproval right after the election. The data is divided into 3 subgroups; the first of which are voters; the second are adults; and the third is all polls. "
   ]
  },
  {
   "cell_type": "code",
   "execution_count": 3,
   "id": "1e21fd4b",
   "metadata": {},
   "outputs": [],
   "source": [
    "import pandas as pd\n",
    "import scipy.stats as st\n",
    "import numpy as np\n",
    "import matplotlib.pyplot as plt\n",
    "import seaborn as sns "
   ]
  },
  {
   "cell_type": "markdown",
   "id": "77bb3c40",
   "metadata": {},
   "source": [
    "I've decided to import, just in case, most of the libraries that we studied in class."
   ]
  },
  {
   "cell_type": "code",
   "execution_count": 4,
   "id": "abd95324",
   "metadata": {},
   "outputs": [
    {
     "name": "stdout",
     "output_type": "stream",
     "text": [
      "      president   subgroup  modeldate  approve_estimate  approve_hi  \\\n",
      "0  Donald Trump     Voters  1/20/2021         39.406442   45.865356   \n",
      "1  Donald Trump     Adults  1/20/2021         36.953304   42.811748   \n",
      "2  Donald Trump  All polls  1/20/2021         38.617868   44.937141   \n",
      "3  Donald Trump  All polls  1/19/2021         39.158235   45.181236   \n",
      "4  Donald Trump     Adults  1/19/2021         38.052729   43.544561   \n",
      "\n",
      "   approve_lo  disapprove_estimate  disapprove_hi  disapprove_lo  \\\n",
      "0   32.947528            56.711537      62.468410      50.954664   \n",
      "1   31.094860            59.616358      65.468126      53.764590   \n",
      "2   32.298595            57.852968      63.681566      52.024369   \n",
      "3   33.135233            57.432050      62.941066      51.923033   \n",
      "4   32.560897            59.077550      64.489176      53.665924   \n",
      "\n",
      "         timestamp  \n",
      "0  1/20/2021 11:52  \n",
      "1  1/20/2021 11:49  \n",
      "2  1/20/2021 11:47  \n",
      "3  1/19/2021 22:36  \n",
      "4  1/19/2021 22:38  \n",
      "count    4377.000000\n",
      "mean       41.464248\n",
      "std         2.012245\n",
      "min        34.930870\n",
      "25%        40.311730\n",
      "50%        41.621320\n",
      "75%        42.857010\n",
      "max        48.616170\n",
      "Name: approve_estimate, dtype: float64\n"
     ]
    },
    {
     "data": {
      "image/png": "[encoded data removed]",
      "text/plain": [
       "<Figure size 432x288 with 1 Axes>"
      ]
     },
     "metadata": {
      "needs_background": "light"
     },
     "output_type": "display_data"
    }
   ],
   "source": [
    "trump = pd.read_csv('approval_topline.csv')\n",
    "print(trump.head())\n",
    "print(trump.approve_estimate.describe())\n",
    "sns.boxplot(y= trump.approve_estimate, x= trump.disapprove_estimate )\n",
    "plt.savefig(\"approve.png\")"
   ]
  },
  {
   "cell_type": "markdown",
   "id": "22856066",
   "metadata": {},
   "source": [
    "I imported the data. Also, to give us a big picture of this analysis, I made a visualization of the approval estimate and disapproval estimate as a whole. Later, I will split that into the 3 subgroups."
   ]
  },
  {
   "cell_type": "code",
   "execution_count": 10,
   "id": "47e13d69",
   "metadata": {
    "scrolled": true
   },
   "outputs": [
    {
     "name": "stdout",
     "output_type": "stream",
     "text": [
      "Ttest_indResult(statistic=32.46765406132059, pvalue=1.1402528900119947e-197)\n"
     ]
    }
   ],
   "source": [
    "print(st.ttest_ind(voters['approve_estimate'], adults['approve_estimate']))"
   ]
  },
  {
   "cell_type": "markdown",
   "id": "71940583",
   "metadata": {},
   "source": [
    "Performing two-sample t-test"
   ]
  },
  {
   "cell_type": "code",
   "execution_count": 11,
   "id": "08d48a65",
   "metadata": {},
   "outputs": [],
   "source": [
    "adults= trump[trump.subgroup == 'Adults']\n",
    "all_polls = trump[trump.subgroup == 'All polls']\n",
    "voters = trump[trump.subgroup == 'Voters']"
   ]
  },
  {
   "cell_type": "markdown",
   "id": "1ea77591",
   "metadata": {},
   "source": [
    "dividing the Subgroup in 3 groups"
   ]
  },
  {
   "cell_type": "code",
   "execution_count": 12,
   "id": "1a5d259e",
   "metadata": {},
   "outputs": [
    {
     "name": "stdout",
     "output_type": "stream",
     "text": [
      "       president subgroup  modeldate  approve_estimate  approve_hi  \\\n",
      "1   Donald Trump   Adults  1/20/2021         36.953304   42.811748   \n",
      "4   Donald Trump   Adults  1/19/2021         38.052729   43.544561   \n",
      "6   Donald Trump   Adults  1/18/2021         36.149658   41.190441   \n",
      "10  Donald Trump   Adults  1/17/2021         36.452322   41.621789   \n",
      "13  Donald Trump   Adults  1/16/2021         36.484379   41.719739   \n",
      "\n",
      "    approve_lo  disapprove_estimate  disapprove_hi  disapprove_lo  \\\n",
      "1    31.094860            59.616358      65.468126      53.764590   \n",
      "4    32.560897            59.077550      64.489176      53.665924   \n",
      "6    31.108876            60.586134      65.840583      55.331685   \n",
      "10   31.282855            60.397796      65.809509      54.986083   \n",
      "13   31.249019            59.459819      65.369609      53.550030   \n",
      "\n",
      "          timestamp  \n",
      "1   1/20/2021 11:49  \n",
      "4   1/19/2021 22:38  \n",
      "6   1/18/2021 15:11  \n",
      "10  1/17/2021 13:53  \n",
      "13   1/17/2021 9:05  \n",
      "count    1459.000000\n",
      "mean       40.423450\n",
      "std         1.852463\n",
      "min        34.930870\n",
      "25%        39.458410\n",
      "50%        40.823040\n",
      "75%        41.503910\n",
      "max        46.098665\n",
      "Name: approve_estimate, dtype: float64\n",
      "count    1459.000000\n",
      "mean       54.001136\n",
      "std         1.987019\n",
      "min        39.856990\n",
      "25%        53.008435\n",
      "50%        53.976530\n",
      "75%        55.108360\n",
      "max        60.586134\n",
      "Name: disapprove_estimate, dtype: float64\n"
     ]
    },
    {
     "data": {
      "image/png": "[encoded data removed]",
      "text/plain": [
       "<Figure size 432x288 with 1 Axes>"
      ]
     },
     "metadata": {
      "needs_background": "light"
     },
     "output_type": "display_data"
    }
   ],
   "source": [
    "print(adults.head())\n",
    "print(adults.approve_estimate.describe())\n",
    "print(adults.disapprove_estimate.describe())\n",
    "sns.boxplot(y=adults.approve_estimate, x=adults.disapprove_estimate )\n",
    "plt.savefig('adultsapproval.png')\n",
    "plt.show()"
   ]
  },
  {
   "cell_type": "markdown",
   "id": "9d504efe",
   "metadata": {},
   "source": [
    "This plot is the approval estimate vs. disapproval estimate for adults only."
   ]
  },
  {
   "cell_type": "code",
   "execution_count": 13,
   "id": "68df0acd",
   "metadata": {},
   "outputs": [
    {
     "name": "stdout",
     "output_type": "stream",
     "text": [
      "       president subgroup  modeldate  approve_estimate  approve_hi  \\\n",
      "0   Donald Trump   Voters  1/20/2021         39.406442   45.865356   \n",
      "5   Donald Trump   Voters  1/19/2021         40.153860   45.826534   \n",
      "7   Donald Trump   Voters  1/18/2021         39.770617   45.412971   \n",
      "9   Donald Trump   Voters  1/17/2021         40.236178   45.612161   \n",
      "14  Donald Trump   Voters  1/16/2021         39.664908   45.703026   \n",
      "\n",
      "    approve_lo  disapprove_estimate  disapprove_hi  disapprove_lo  \\\n",
      "0    32.947528            56.711537      62.468410      50.954664   \n",
      "5    34.481187            55.788110      60.738895      50.837325   \n",
      "7    34.128263            56.133746      61.045819      51.221673   \n",
      "9    34.860196            55.650691      60.343838      50.957544   \n",
      "14   33.626791            56.453503      61.364684      51.542321   \n",
      "\n",
      "          timestamp  \n",
      "0   1/20/2021 11:52  \n",
      "5   1/19/2021 22:41  \n",
      "7   1/18/2021 15:16  \n",
      "9   1/17/2021 13:56  \n",
      "14   1/17/2021 9:11  \n",
      "count    1459.000000\n",
      "mean       42.558403\n",
      "std         1.696155\n",
      "min        37.277090\n",
      "25%        41.669044\n",
      "50%        42.854770\n",
      "75%        43.596810\n",
      "max        48.616170\n",
      "Name: approve_estimate, dtype: float64\n",
      "count    1459.000000\n",
      "mean       52.997198\n",
      "std         1.876770\n",
      "min        37.000000\n",
      "25%        52.194527\n",
      "50%        52.948363\n",
      "75%        53.951110\n",
      "max        57.769910\n",
      "Name: disapprove_estimate, dtype: float64\n"
     ]
    },
    {
     "data": {
      "image/png": "[encoded data removed]",
      "text/plain": [
       "<Figure size 432x288 with 1 Axes>"
      ]
     },
     "metadata": {
      "needs_background": "light"
     },
     "output_type": "display_data"
    }
   ],
   "source": [
    "print(voters.head())\n",
    "print(voters.approve_estimate.describe())\n",
    "print(voters.disapprove_estimate.describe())\n",
    "sns.boxplot(y=voters.approve_estimate, x=voters.disapprove_estimate )\n",
    "plt.savefig('votersapproval.png')\n",
    "plt.show()"
   ]
  },
  {
   "cell_type": "markdown",
   "id": "fbb810bd",
   "metadata": {},
   "source": [
    "Here is the plot of approval estimate vs. disapproval estimate but only among people that actually vote."
   ]
  },
  {
   "cell_type": "code",
   "execution_count": 14,
   "id": "7966f1fa",
   "metadata": {},
   "outputs": [
    {
     "name": "stdout",
     "output_type": "stream",
     "text": [
      "       president   subgroup  modeldate  approve_estimate  approve_hi  \\\n",
      "2   Donald Trump  All polls  1/20/2021         38.617868   44.937141   \n",
      "3   Donald Trump  All polls  1/19/2021         39.158235   45.181236   \n",
      "8   Donald Trump  All polls  1/18/2021         38.262011   44.216147   \n",
      "11  Donald Trump  All polls  1/17/2021         38.724709   44.631056   \n",
      "12  Donald Trump  All polls  1/16/2021         38.044537   44.444425   \n",
      "\n",
      "    approve_lo  disapprove_estimate  disapprove_hi  disapprove_lo  \\\n",
      "2    32.298595            57.852968      63.681566      52.024369   \n",
      "3    33.135233            57.432050      62.941066      51.923033   \n",
      "8    32.307875            58.148625      63.696902      52.600349   \n",
      "11   32.818361            57.894003      63.448033      52.339972   \n",
      "12   31.644649            58.034084      63.815782      52.252386   \n",
      "\n",
      "          timestamp  \n",
      "2   1/20/2021 11:47  \n",
      "3   1/19/2021 22:36  \n",
      "8   1/18/2021 15:09  \n",
      "11  1/17/2021 13:51  \n",
      "12   1/17/2021 9:02  \n",
      "count    1459.000000\n",
      "mean       41.410892\n",
      "std         1.886674\n",
      "min        36.403140\n",
      "25%        40.373505\n",
      "50%        41.773590\n",
      "75%        42.569996\n",
      "max        47.764970\n",
      "Name: approve_estimate, dtype: float64\n",
      "count    1459.000000\n",
      "mean       53.478696\n",
      "std         1.880913\n",
      "min        41.060810\n",
      "25%        52.565525\n",
      "50%        53.312980\n",
      "75%        54.510925\n",
      "max        58.148625\n",
      "Name: disapprove_estimate, dtype: float64\n"
     ]
    },
    {
     "data": {
      "image/png": "[encoded data removed]",
      "text/plain": [
       "<Figure size 432x288 with 1 Axes>"
      ]
     },
     "metadata": {
      "needs_background": "light"
     },
     "output_type": "display_data"
    }
   ],
   "source": [
    "print(all_polls.head())\n",
    "print(all_polls.approve_estimate.describe())\n",
    "print(all_polls.disapprove_estimate.describe())\n",
    "sns.boxplot(y=all_polls.approve_estimate, x=all_polls.disapprove_estimate )\n",
    "plt.savefig('allpollsapproval.png')\n",
    "plt.show()"
   ]
  },
  {
   "cell_type": "markdown",
   "id": "6991eb23",
   "metadata": {},
   "source": [
    "finally the plot of approval estimate vs. disapproval estimate among all polls."
   ]
  },
  {
   "cell_type": "code",
   "execution_count": null,
   "id": "bc86523f",
   "metadata": {},
   "outputs": [],
   "source": []
  }
 ],
 "metadata": {
  "kernelspec": {
   "display_name": "Python 3 (ipykernel)",
   "language": "python",
   "name": "python3"
  },
  "language_info": {
   "codemirror_mode": {
    "name": "ipython",
    "version": 3
   },
   "file_extension": ".py",
   "mimetype": "text/x-python",
   "name": "python",
   "nbconvert_exporter": "python",
   "pygments_lexer": "ipython3",
   "version": "3.9.12"
  }
 },
 "nbformat": 4,
 "nbformat_minor": 5
}
